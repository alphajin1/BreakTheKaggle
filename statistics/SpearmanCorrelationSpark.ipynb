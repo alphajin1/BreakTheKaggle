{
 "cells": [
  {
   "cell_type": "markdown",
   "metadata": {},
   "source": [
    "# Spearman correlation sample for Spark"
   ]
  },
  {
   "cell_type": "code",
   "execution_count": 1,
   "metadata": {
    "scrolled": false
   },
   "outputs": [
    {
     "name": "stdout",
     "output_type": "stream",
     "text": [
      "Spearman correlation matrix:\n",
      "1.0                  -0.9999999999999981  \n",
      "-0.9999999999999981  1.0                  \n"
     ]
    },
    {
     "data": {
      "text/plain": [
       "data = List([1.0,3.0], [2.0,2.0], [3.0,1.0], [4.0,0.0])\n",
       "df = [features: vector]\n",
       "coeff2 = \n"
      ]
     },
     "metadata": {},
     "output_type": "display_data"
    },
    {
     "data": {
      "text/plain": [
       "1.0                  -0.9999999999999981\n",
       "-0.9999999999999981  1.0\n"
      ]
     },
     "metadata": {},
     "output_type": "display_data"
    }
   ],
   "source": [
    "import org.apache.spark.ml.linalg.{Matrix, Vectors}\n",
    "import org.apache.spark.ml.stat.Correlation\n",
    "import org.apache.spark.sql.Row\n",
    "\n",
    "//Columns를 넣으면 된다. \n",
    "val data = Seq(\n",
    "  Vectors.dense(1.0, 3.0),\n",
    "  Vectors.dense(2.0, 2.0),\n",
    "  Vectors.dense(3.0, 1.0),\n",
    "  Vectors.dense(4.0, 0.0)\n",
    ")\n",
    "\n",
    "val df = data.map(Tuple1.apply).toDF(\"features\")\n",
    "\n",
    "val Row(coeff2: Matrix) = Correlation.corr(df, \"features\", \"spearman\").head\n",
    "println(\"Spearman correlation matrix:\\n\" + coeff2.toString)"
   ]
  },
  {
   "cell_type": "code",
   "execution_count": 2,
   "metadata": {},
   "outputs": [
    {
     "name": "stdout",
     "output_type": "stream",
     "text": [
      "+---------+\n",
      "|features |\n",
      "+---------+\n",
      "|[1.0,3.0]|\n",
      "|[2.0,2.0]|\n",
      "|[3.0,1.0]|\n",
      "|[4.0,0.0]|\n",
      "+---------+\n",
      "\n"
     ]
    }
   ],
   "source": [
    "df.show(10, false)"
   ]
  },
  {
   "cell_type": "code",
   "execution_count": 3,
   "metadata": {},
   "outputs": [
    {
     "data": {
      "text/plain": [
       "-0.9999999999999981"
      ]
     },
     "execution_count": 3,
     "metadata": {},
     "output_type": "execute_result"
    }
   ],
   "source": [
    "coeff2.apply(0, 1)"
   ]
  }
 ],
 "metadata": {
  "kernelspec": {
   "display_name": "Scala Toree QM Spark k8s Small(dm:4G, em:2G, e:64)",
   "language": "scala",
   "name": "scala_spark_qm_k8s_small"
  },
  "language_info": {
   "codemirror_mode": "text/x-scala",
   "file_extension": ".scala",
   "mimetype": "text/x-scala",
   "name": "scala",
   "pygments_lexer": "scala",
   "version": "2.11.12"
  }
 },
 "nbformat": 4,
 "nbformat_minor": 4
}
