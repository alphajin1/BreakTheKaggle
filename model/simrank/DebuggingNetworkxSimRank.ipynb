{
 "cells": [
  {
   "cell_type": "code",
   "execution_count": 8,
   "metadata": {},
   "outputs": [
    {
     "name": "stdout",
     "output_type": "stream",
     "text": [
      "2.5\n"
     ]
    }
   ],
   "source": [
    "import networkx as nx\n",
    "import matplotlib.pyplot as plt\n",
    "\n",
    "print(nx.__version__)\n",
    "G = nx.DiGraph()\n",
    "G.add_edges_from(\n",
    "        [\n",
    "            (\"Univ\", \"ProfA\"), (\"Univ\", \"ProfB\"), (\"ProfA\", \"StudentA\"), (\"StudentA\", \"Univ\"), (\"ProfB\", \"StudentB\"), (\"StudentB\", \"ProfB\")\n",
    "        ]\n",
    "    )"
   ]
  },
  {
   "cell_type": "code",
   "execution_count": 13,
   "metadata": {},
   "outputs": [
    {
     "data": {
      "image/png": "[encoded data removed]",
      "text/plain": [
       "<Figure size 432x288 with 1 Axes>"
      ]
     },
     "metadata": {},
     "output_type": "display_data"
    }
   ],
   "source": [
    "nx.draw(G, with_labels=True)\n",
    "plt.savefig(\"graph.png\")\n",
    "plt.show()"
   ]
  },
  {
   "cell_type": "code",
   "execution_count": 14,
   "metadata": {},
   "outputs": [
    {
     "name": "stdout",
     "output_type": "stream",
     "text": [
      "Num of Edges =  6.0\n"
     ]
    },
    {
     "data": {
      "text/plain": [
       "array([[0., 1., 1., 0., 0.],\n",
       "       [0., 0., 0., 1., 0.],\n",
       "       [0., 0., 0., 0., 1.],\n",
       "       [1., 0., 0., 0., 0.],\n",
       "       [0., 0., 1., 0., 0.]])"
      ]
     },
     "execution_count": 14,
     "metadata": {},
     "output_type": "execute_result"
    }
   ],
   "source": [
    "import numpy as np\n",
    "adjacency_matrix = nx.to_numpy_array(G)\n",
    "print(\"Num of Edges = \", np.sum(adjacency_matrix))\n",
    "adjacency_matrix"
   ]
  },
  {
   "cell_type": "code",
   "execution_count": 15,
   "metadata": {},
   "outputs": [
    {
     "name": "stdout",
     "output_type": "stream",
     "text": [
      "column-normalize the 'adjacency_matrix'\n"
     ]
    },
    {
     "data": {
      "text/plain": [
       "array([[0. , 1. , 0.5, 0. , 0. ],\n",
       "       [0. , 0. , 0. , 1. , 0. ],\n",
       "       [0. , 0. , 0. , 0. , 1. ],\n",
       "       [1. , 0. , 0. , 0. , 0. ],\n",
       "       [0. , 0. , 0.5, 0. , 0. ]])"
      ]
     },
     "execution_count": 15,
     "metadata": {},
     "output_type": "execute_result"
    }
   ],
   "source": [
    "print(\"column-normalize the 'adjacency_matrix'\")\n",
    "adjacency_matrix /= adjacency_matrix.sum(axis=0)\n",
    "adjacency_matrix"
   ]
  },
  {
   "cell_type": "code",
   "execution_count": 16,
   "metadata": {},
   "outputs": [
    {
     "data": {
      "text/plain": [
       "array([[1.        , 0.        , 0.13233174, 0.        , 0.03384174],\n",
       "       [0.        , 1.        , 0.4135367 , 0.        , 0.10586539],\n",
       "       [0.13233174, 0.4135367 , 1.        , 0.04234616, 0.08820444],\n",
       "       [0.        , 0.        , 0.04234616, 1.        , 0.33082936],\n",
       "       [0.03384174, 0.10586539, 0.08820444, 0.33082936, 1.        ]])"
      ]
     },
     "execution_count": 16,
     "metadata": {},
     "output_type": "execute_result"
    }
   ],
   "source": [
    "sim = nx.simrank_similarity_numpy(G,  importance_factor=0.8, max_iterations=100)\n",
    "sim"
   ]
  },
  {
   "cell_type": "code",
   "execution_count": 17,
   "metadata": {},
   "outputs": [
    {
     "data": {
      "text/plain": [
       "{'Univ': {'Univ': 1,\n",
       "  'ProfA': 0.0,\n",
       "  'ProfB': 0.1323363991265798,\n",
       "  'StudentA': 0.0,\n",
       "  'StudentB': 0.03387811817640443},\n",
       " 'ProfA': {'Univ': 0.0,\n",
       "  'ProfA': 1,\n",
       "  'ProfB': 0.4135512472705618,\n",
       "  'StudentA': 0.0,\n",
       "  'StudentB': 0.10586911930126384},\n",
       " 'ProfB': {'Univ': 0.1323363991265798,\n",
       "  'ProfA': 0.4135512472705618,\n",
       "  'ProfB': 1,\n",
       "  'StudentA': 0.04234764772050554,\n",
       "  'StudentB': 0.08822426608438655},\n",
       " 'StudentA': {'Univ': 0.0,\n",
       "  'ProfA': 0.0,\n",
       "  'ProfB': 0.04234764772050554,\n",
       "  'StudentA': 1,\n",
       "  'StudentB': 0.3308409978164495},\n",
       " 'StudentB': {'Univ': 0.03387811817640443,\n",
       "  'ProfA': 0.10586911930126384,\n",
       "  'ProfB': 0.08822426608438655,\n",
       "  'StudentA': 0.3308409978164495,\n",
       "  'StudentB': 1}}"
      ]
     },
     "execution_count": 17,
     "metadata": {},
     "output_type": "execute_result"
    }
   ],
   "source": [
    "sim = nx.simrank_similarity(G, importance_factor=0.8, max_iterations=100)\n",
    "sim"
   ]
  },
  {
   "cell_type": "code",
   "execution_count": null,
   "metadata": {},
   "outputs": [],
   "source": []
  },
  {
   "cell_type": "code",
   "execution_count": null,
   "metadata": {},
   "outputs": [],
   "source": []
  }
 ],
 "metadata": {
  "kernelspec": {
   "display_name": "Python 3",
   "language": "python",
   "name": "python3"
  },
  "language_info": {
   "codemirror_mode": {
    "name": "ipython",
    "version": 3
   },
   "file_extension": ".py",
   "mimetype": "text/x-python",
   "name": "python",
   "nbconvert_exporter": "python",
   "pygments_lexer": "ipython3",
   "version": "3.8.3"
  }
 },
 "nbformat": 4,
 "nbformat_minor": 4
}
