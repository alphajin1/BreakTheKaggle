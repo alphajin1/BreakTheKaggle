{
 "cells": [
  {
   "cell_type": "code",
   "execution_count": 3,
   "metadata": {},
   "outputs": [],
   "source": [
    "from networkx.algorithms import bipartite\n",
    "B = nx.Graph()\n",
    "queries = [\"pc\", \"camera\", \"digital camera\", \"tv\", \"flower\"]\n",
    "docs = [\"hp.com\", \"bestbuy.com\", \"teleflora.com\", \"orchids.com\"]\n",
    "B.add_nodes_from(queries, bipartite=0)\n",
    "B.add_nodes_from(docs, bipartite=1)\n",
    "B.add_weighted_edges_from(\n",
    "    [\n",
    "        (\"pc\", \"hp.com\", 1), \n",
    "        (\"camera\", \"hp.com\", 1), \n",
    "        (\"camera\", \"bestbuy.com\", 1), \n",
    "        (\"digital camera\", \"hp.com\", 1),\n",
    "        (\"digital camera\", \"bestbuy.com\", 1),\n",
    "        (\"tv\", \"bestbuy.com\", 1),\n",
    "        (\"flower\", \"teleflora.com\", 1), \n",
    "        (\"flower\", \"orchids.com\", 1)\n",
    "    ]\n",
    ")\n"
   ]
  },
  {
   "cell_type": "code",
   "execution_count": 8,
   "metadata": {},
   "outputs": [
    {
     "name": "stdout",
     "output_type": "stream",
     "text": [
      "============================================================\n",
      "Assertion complte\n",
      "============================================================\n"
     ]
    }
   ],
   "source": [
    "import networkx as nx\n",
    "import itertools\n",
    "import numpy as np\n",
    "\n",
    "def custom_SimRank(G, importance_factor=0.9, max_iterations=100):\n",
    "    \"\"\"\n",
    "    SimRank: \n",
    "    - 기본적으로 \"나를 가리키는(in-degree) object들끼리 비슷할수록, 비슷하다\"는 것을 가정함. \n",
    "    - 이 개념은 recursion을 내포하게 되는데, 가령 \"나를 가리키는 object(A)들은 이 object(A)들을 가리키는 \n",
    "    또다른 object(B)들간이 비슷할수록... 으로 무한히 연속될 수 있음. \n",
    "    - 따라서, matrix를 반복해가면서 어디로 수렴하는지를 파악해야 함. \n",
    "    - 초기 값은 diagonal matrix가 됨.\n",
    "    - 또한, \"이웃의 이웃의 이웃\"이 반복될 수록 importance_factor로 그 영향을 줄여나감.\n",
    "    - 아래의 코드는 `nx.simrank_similarity(G)`와 코드 실행 결과가 동일함.\n",
    "    - 또한, `simrank_similarity_numpy(G)`는 matrix간에 연산을 수행하는데, \n",
    "    행렬간 연산이 더 익숙한 경우 이 쪽이 더 편할 수 있음.\n",
    "    \"\"\"\n",
    "    prevSimRank = None\n",
    "    # initial SimRank인데, 당연하지만, 그냥 diagnonal matrix\n",
    "    # 사실, 엄밀히 따지면, 이 두 노드만 1이어야 하므로.\n",
    "    NewSimRank = {u: {v: 1 if u == v else 0 for v in G} for u in G}\n",
    "    for _ in range(0, max_iterations):\n",
    "        # update하기 전에 원래 값을 `prevSimRank`에 저장하고\n",
    "        prevSimRank = NewSimRank.copy()\n",
    "        # UPDATE Node SimRank\n",
    "        for u in NewSimRank:\n",
    "            for v in NewSimRank[u]:\n",
    "                if u == v:  # u, v가 같을 경우에는 1.0\n",
    "                    NewSimRank[u][v]=1.0\n",
    "                else:\n",
    "                    # u, v 가 다를 경우에는 각각의 neighbor들간의 모든 조합으로부터\n",
    "                    # 기존 w_x_similarity의 평균을 구하여, 업데이트해줌.\n",
    "                    u_neighbors, v_neighbors = G[u], G[v]\n",
    "                    neighbors_product = list(itertools.product(u_neighbors, v_neighbors))\n",
    "                    u_v_SimRank = 0.0\n",
    "                    if len(neighbors_product)==0:\n",
    "                        NewSimRank[u][v] = u_v_SimRank\n",
    "                    else:\n",
    "                        for w, x in neighbors_product:\n",
    "                            #\n",
    "                            w_x_SimRank = NewSimRank[w][x]\n",
    "                            u_v_SimRank += w_x_SimRank\n",
    "                        # u_v_SimRank average\n",
    "                        u_v_SimRank /= len(neighbors_product)\n",
    "                        # u_v_SimRank decay\n",
    "                        u_v_SimRank *= importance_factor\n",
    "                        NewSimRank[u][v] = u_v_SimRank\n",
    "    return NewSimRank\n",
    "\n",
    "########################################################################\n",
    "# N = 3\n",
    "# G = nx.scale_free_graph(N, seed=0)\n",
    "# G = nx.Graph(G)\n",
    "# assert nx.is_connected(G)==True\n",
    "\n",
    "# c_SimRank = custom_SimRank(G)\n",
    "# nx_SimRank = nx.simrank_similarity(G)\n",
    "# for u in c_SimRank:\n",
    "#     for v in c_SimRank[u]:\n",
    "#         assert round(c_SimRank[u][v], 8)==round(nx_SimRank[u][v], 8)\n",
    "        #print(u, v, custom_node_SimRank, nx_node_SimRank)\n",
    "print(\"==\"*30)\n",
    "print(\"Assertion complte\")\n",
    "print(\"==\"*30)\n"
   ]
  },
  {
   "cell_type": "code",
   "execution_count": 18,
   "metadata": {},
   "outputs": [
    {
     "name": "stdout",
     "output_type": "stream",
     "text": [
      "============================================================\n",
      "Simrank at iteration time   0\n",
      "Simrank at iteration time   1\n",
      "Simrank at iteration time   2\n",
      "Simrank at iteration time   3\n",
      "Simrank at iteration time   4\n",
      "Simrank at iteration time   5\n",
      "Simrank at iteration time   6\n",
      "Simrank at iteration time   7\n",
      "Simrank at iteration time   8\n",
      "Simrank at iteration time   9\n",
      "Simrank at iteration time  10\n",
      "Simrank at iteration time  11\n",
      "[[1.         0.61863278 0.61863278 0.43726556 0.         0.\n",
      "  0.         0.         0.        ]\n",
      " [0.61863278 1.         0.61863278 0.61863278 0.         0.\n",
      "  0.         0.         0.        ]\n",
      " [0.61863278 0.61863278 1.         0.61863278 0.         0.\n",
      "  0.         0.         0.        ]\n",
      " [0.43726556 0.61863278 0.61863278 1.         0.         0.\n",
      "  0.         0.         0.        ]\n",
      " [0.         0.         0.         0.         1.         0.\n",
      "  0.         0.         0.        ]\n",
      " [0.         0.         0.         0.         0.         1.\n",
      "  0.54658331 0.         0.        ]\n",
      " [0.         0.         0.         0.         0.         0.54658331\n",
      "  1.         0.         0.        ]\n",
      " [0.         0.         0.         0.         0.         0.\n",
      "  0.         1.         0.8       ]\n",
      " [0.         0.         0.         0.         0.         0.\n",
      "  0.         0.8        1.        ]]\n",
      "------------------------------------------------------------\n",
      "============================================================\n"
     ]
    }
   ],
   "source": [
    "print(\"==\"*30)\n",
    "for i in range(0, 12):\n",
    "    print(f\"Simrank at iteration time {i:3d}\")\n",
    "    simrank_dict = custom_SimRank(B, importance_factor=0.8, max_iterations=i)\n",
    "    np_arr = np.array(\n",
    "        [[simrank_dict[u][v] for v in simrank_dict[u]] for u in simrank_dict]\n",
    "    )\n",
    "    if i <= 10:\n",
    "        continue\n",
    "    print(np_arr)\n",
    "    print(\"--\"*30)\n",
    "print(\"==\" * 30)"
   ]
  },
  {
   "cell_type": "code",
   "execution_count": 19,
   "metadata": {},
   "outputs": [
    {
     "data": {
      "text/plain": [
       "{'pc': 1.0,\n",
       " 'camera': 0.6186327823340267,\n",
       " 'digital camera': 0.6186327823340267,\n",
       " 'tv': 0.43726556466805333,\n",
       " 'flower': 0.0,\n",
       " 'hp.com': 0.0,\n",
       " 'bestbuy.com': 0.0,\n",
       " 'teleflora.com': 0.0,\n",
       " 'orchids.com': 0.0}"
      ]
     },
     "execution_count": 19,
     "metadata": {},
     "output_type": "execute_result"
    }
   ],
   "source": [
    "simrank_dict[\"pc\"]"
   ]
  },
  {
   "cell_type": "code",
   "execution_count": 21,
   "metadata": {},
   "outputs": [
    {
     "data": {
      "text/plain": [
       "AtlasView({'hp.com': {'weight': 1}})"
      ]
     },
     "execution_count": 21,
     "metadata": {},
     "output_type": "execute_result"
    }
   ],
   "source": [
    "B[\"pc\"]"
   ]
  },
  {
   "cell_type": "code",
   "execution_count": null,
   "metadata": {},
   "outputs": [],
   "source": []
  }
 ],
 "metadata": {
  "kernelspec": {
   "display_name": "Python 3",
   "language": "python",
   "name": "python3"
  },
  "language_info": {
   "codemirror_mode": {
    "name": "ipython",
    "version": 3
   },
   "file_extension": ".py",
   "mimetype": "text/x-python",
   "name": "python",
   "nbconvert_exporter": "python",
   "pygments_lexer": "ipython3",
   "version": "3.8.3"
  }
 },
 "nbformat": 4,
 "nbformat_minor": 4
}
