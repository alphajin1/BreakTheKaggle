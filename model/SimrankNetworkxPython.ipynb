{
 "cells": [
  {
   "cell_type": "code",
   "execution_count": 2,
   "metadata": {},
   "outputs": [],
   "source": [
    "# G.add_node(1)\n",
    "# G.add_nodes_from([2,3])"
   ]
  },
  {
   "cell_type": "code",
   "execution_count": 6,
   "metadata": {},
   "outputs": [],
   "source": [
    "# nbunch is any iterable container of nodes that is not itself a node in the graph.\n",
    "# nbunch는 그 자체가 그래프의 노드가 아닌 노드의 반복가능한 컨테이너?\n",
    "# H=nx.path_graph(10)\n",
    "# G.add_nodes_from(H)"
   ]
  },
  {
   "cell_type": "code",
   "execution_count": 7,
   "metadata": {},
   "outputs": [],
   "source": [
    "# Edges\n",
    "# G.add_edge(1,2)\n",
    "# G.add_edges_from([(1,2),(1,3)])"
   ]
  },
  {
   "cell_type": "code",
   "execution_count": 8,
   "metadata": {},
   "outputs": [],
   "source": [
    "# Edge Attributes\n",
    "# Weight 가능"
   ]
  },
  {
   "cell_type": "code",
   "execution_count": 92,
   "metadata": {},
   "outputs": [],
   "source": [
    "from networkx.algorithms import bipartite\n",
    "B = nx.Graph()\n",
    "queries = [\"pc\", \"camera\", \"digital camera\", \"tv\", \"flower\"]\n",
    "docs = [\"hp.com\", \"bestbuy.com\", \"teleflora.com\", \"orchids.com\"]\n",
    "B.add_nodes_from(queries, bipartite=0)\n",
    "B.add_nodes_from(docs, bipartite=1)\n",
    "B.add_weighted_edges_from(\n",
    "    [\n",
    "        (\"pc\", \"hp.com\", 1), \n",
    "        (\"camera\", \"hp.com\", 1), \n",
    "        (\"camera\", \"bestbuy.com\", 1), \n",
    "        (\"digital camera\", \"hp.com\", 1),\n",
    "        (\"digital camera\", \"bestbuy.com\", 1),\n",
    "        (\"tv\", \"bestbuy.com\", 1),\n",
    "        (\"flower\", \"teleflora.com\", 1), \n",
    "        (\"flower\", \"orchids.com\", 1)\n",
    "    ]\n",
    ")\n"
   ]
  },
  {
   "cell_type": "code",
   "execution_count": 95,
   "metadata": {},
   "outputs": [],
   "source": [
    "sim = nx.simrank_similarity(B, importance_factor=0.8)\n",
    "# importance_factor (float) – \n",
    "# The relative importance of indirect neighbors with respect to direct neighbors."
   ]
  },
  {
   "cell_type": "code",
   "execution_count": 97,
   "metadata": {},
   "outputs": [
    {
     "data": {
      "text/plain": [
       "{'pc': 1,\n",
       " 'camera': 0.6186335403726709,\n",
       " 'digital camera': 0.6186335403726709,\n",
       " 'tv': 0.43726708074534176,\n",
       " 'flower': 0.0,\n",
       " 'hp.com': 0.0,\n",
       " 'bestbuy.com': 0.0,\n",
       " 'teleflora.com': 0.0,\n",
       " 'orchids.com': 0.0}"
      ]
     },
     "execution_count": 97,
     "metadata": {},
     "output_type": "execute_result"
    }
   ],
   "source": [
    "sim[\"pc\"]"
   ]
  },
  {
   "cell_type": "code",
   "execution_count": null,
   "metadata": {},
   "outputs": [],
   "source": []
  }
 ],
 "metadata": {
  "kernelspec": {
   "display_name": "Python 3",
   "language": "python",
   "name": "python3"
  },
  "language_info": {
   "codemirror_mode": {
    "name": "ipython",
    "version": 3
   },
   "file_extension": ".py",
   "mimetype": "text/x-python",
   "name": "python",
   "nbconvert_exporter": "python",
   "pygments_lexer": "ipython3",
   "version": "3.8.3"
  }
 },
 "nbformat": 4,
 "nbformat_minor": 4
}
